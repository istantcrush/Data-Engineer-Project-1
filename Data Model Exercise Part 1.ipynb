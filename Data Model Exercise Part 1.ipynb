{
 "cells": [
  {
   "cell_type": "markdown",
   "id": "151a9b49",
   "metadata": {},
   "source": [
    "<h1> Lesson 1 Exercise 1: Creating a Table with PostgreSQL </h1> "
   ]
  },
  {
   "cell_type": "code",
   "execution_count": 5,
   "id": "19de303a",
   "metadata": {},
   "outputs": [
    {
     "name": "stdout",
     "output_type": "stream",
     "text": [
      "Requirement already satisfied: psycopg2 in c:\\users\\hsi\\anaconda3\\lib\\site-packages (2.9.2)\n"
     ]
    }
   ],
   "source": [
    "!pip install psycopg2"
   ]
  },
  {
   "cell_type": "markdown",
   "id": "b2f561c7",
   "metadata": {},
   "source": [
    "<h1> Import the library </h1>"
   ]
  },
  {
   "cell_type": "code",
   "execution_count": null,
   "id": "ea964f92",
   "metadata": {},
   "outputs": [],
   "source": [
    "import psycopg2"
   ]
  },
  {
   "cell_type": "markdown",
   "id": "7be9a258",
   "metadata": {},
   "source": [
    "<h1> Create a connection to the database </h1>"
   ]
  },
  {
   "cell_type": "code",
   "execution_count": null,
   "id": "38b28ee8",
   "metadata": {},
   "outputs": [],
   "source": [
    "try:\n",
    "    con = psycopg2.connect(\"host=127.0.0.1 dbname=postgres user=postgres password=root\")\n",
    "except psycopg2.Error as e:\n",
    "    print(\"Error: Could not make connection to the Postgres database\")\n",
    "    print(e)"
   ]
  },
  {
   "cell_type": "markdown",
   "id": "94eb9720",
   "metadata": {},
   "source": [
    "<h1> Use the connection to get a cursor that can be used to execute queries. </h1>"
   ]
  },
  {
   "cell_type": "code",
   "execution_count": null,
   "id": "23f2b3e9",
   "metadata": {},
   "outputs": [],
   "source": [
    "try:\n",
    "    cur = conn.cursor()\n",
    "except psycopg2.Error as e:\n",
    "    print(\"Error: Could not get cursor to the Database\")\n",
    "    print(e)"
   ]
  },
  {
   "cell_type": "markdown",
   "id": "a53a8240",
   "metadata": {},
   "source": [
    "<h1> Set automatic commit to be true so that each action is commited wihout having to call conn.commit() after each command. </h1>"
   ]
  },
  {
   "cell_type": "code",
   "execution_count": null,
   "id": "5df100fa",
   "metadata": {},
   "outputs": [],
   "source": [
    "conn.set_session(autocommit=True)"
   ]
  },
  {
   "cell_type": "markdown",
   "id": "51b6d670",
   "metadata": {},
   "source": [
    "<h1> Create a database to do the work in </h1>"
   ]
  },
  {
   "cell_type": "code",
   "execution_count": null,
   "id": "38c6ad5d",
   "metadata": {},
   "outputs": [],
   "source": [
    "try:\n",
    "    cur.execute(\"create database myfirstdb\")\n",
    "except psycopg2.Error as e:\n",
    "    print(e)"
   ]
  },
  {
   "cell_type": "markdown",
   "id": "5ab099bd",
   "metadata": {},
   "source": [
    "<h1> Add the database name in the connect statement. Let's close our connection to the default database, reconnect to the Udacity database, and get a new cursor. </h1>"
   ]
  },
  {
   "cell_type": "code",
   "execution_count": null,
   "id": "e8501261",
   "metadata": {},
   "outputs": [],
   "source": [
    "try:\n",
    "    conn.close()\n",
    "except psycopg2.Error as e:\n",
    "    print(e)\n",
    "\n",
    "try:\n",
    "    conn = psycopg2.connect(\"host=127.0.0.1 dbname=myfirstdb user=postgres password=root\")\n",
    "except psycopg2.Error as e:\n",
    "    print(\"Error: Could not get cursor to the Database\")\n",
    "    print(e)\n",
    "    \n",
    "conn.set_session(autocommit=True)"
   ]
  },
  {
   "cell_type": "markdown",
   "id": "d8f7ec60",
   "metadata": {},
   "source": [
    "<h1> Create Table for students which includes below columns </h1>\n",
    "\n",
    "<p> student_id </p>\n",
    "<p> name </p> \n",
    "<p> age </p> \n",
    "<p> gender </p> \n",
    "<p> subject </p> \n",
    "<p> marks </p> "
   ]
  },
  {
   "cell_type": "code",
   "execution_count": null,
   "id": "659db05d",
   "metadata": {},
   "outputs": [],
   "source": [
    "try:\n",
    "    cur.execute(\"CREATE TABLE IF NOT EXISTS students (student_id int, name varcher,\\\n",
    "    age int, gender vercher, subject varcher, marks int);\")\n",
    "except psycopg2.Error as e:\n",
    "    print(\"Error: Issue creating table\")\n",
    "    print (e)"
   ]
  },
  {
   "cell_type": "markdown",
   "id": "7f0b80bf",
   "metadata": {},
   "source": [
    "<h1> Insert the following two rows in the table </h1>\n",
    "\n",
    "#### First Row: 1,\"Raj\",23,\"Male\",\"Python\",85\n",
    "#### Second Row:2,\"Priya\",22,\"Female\",\"Python\",86"
   ]
  },
  {
   "cell_type": "code",
   "execution_count": null,
   "id": "829ce8c6",
   "metadata": {},
   "outputs": [],
   "source": [
    "try:\n",
    "    cur.execute(\"INSERT INTO students(student_id, name, age, gender, subject, marks)\\\n",
    "                 VALUES (%s, %s, %s,%s, %s, %s)\", 85))\n",
    "except psycopg2.Error as e:\n",
    "    print(\"Error: Inserting Rows\")\n",
    "    print (e)\n",
    "    \n",
    "try:\n",
    "    cur.execute(\"INSERT INTO students (student_id, name, age, gender, subject, marks) \\\n",
    "                 VALUES (%s, %s, %s,%s, %s, %s)\",\n",
    "               ( 2, \"Priya\", 22, \"Female\", \"Python\", 86))\n",
    "\n",
    "except psycopg2.Error as e:\n",
    "    print(\"Error: Inserting Rows\")\n",
    "    print (e)"
   ]
  },
  {
   "cell_type": "markdown",
   "id": "b8e620a8",
   "metadata": {},
   "source": [
    "<h1> Validate your data and insert into the table </h1>"
   ]
  },
  {
   "cell_type": "code",
   "execution_count": null,
   "id": "eb978def",
   "metadata": {},
   "outputs": [],
   "source": [
    "try:\n",
    "    cur.execute(\"SELECT * FROM students;\")\n",
    "except psycopg2.Error as e:\n",
    "    print(\"Error: select *\")\n",
    "    print (e)\n",
    "    \n",
    "row = cur.fetchone()\n",
    "while row:\n",
    "    print(row)\n",
    "    row = cur.fetchone()"
   ]
  },
  {
   "cell_type": "markdown",
   "id": "298a6344",
   "metadata": {},
   "source": [
    "<h1> And finally close your cursor and connection </h1>"
   ]
  },
  {
   "cell_type": "code",
   "execution_count": null,
   "id": "972bff50",
   "metadata": {},
   "outputs": [],
   "source": [
    "cur.close()\n",
    "conn.close()"
   ]
  }
 ],
 "metadata": {
  "kernelspec": {
   "display_name": "Python 3 (ipykernel)",
   "language": "python",
   "name": "python3"
  },
  "language_info": {
   "codemirror_mode": {
    "name": "ipython",
    "version": 3
   },
   "file_extension": ".py",
   "mimetype": "text/x-python",
   "name": "python",
   "nbconvert_exporter": "python",
   "pygments_lexer": "ipython3",
   "version": "3.9.7"
  }
 },
 "nbformat": 4,
 "nbformat_minor": 5
}
